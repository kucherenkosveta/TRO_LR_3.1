{
 "cells": [
  {
   "cell_type": "markdown",
   "metadata": {},
   "source": [
    "# Лабораторная работа 3.1"
   ]
  },
  {
   "cell_type": "markdown",
   "metadata": {},
   "source": [
    "## Счастливый билетик\n",
    "\n",
    "![](http://f2.mylove.ru/UNiHT7dRJ4.jpg)\n",
    "\n",
    "Билет считается счастливым, если выполнено следующее условие: сумма первых трёх цифр номера равна сумме последних трёх цифр.\n",
    "\n",
    "**Задание:**\n",
    "\n",
    "1) Определите число `ticket_number` — шестизначный номер билета;\n",
    "\n",
    "2) Напишите код, который по шестизначному номеру `ticket_number` билетика проверяет, является ли он счастливым;\n",
    "\n",
    "3) Если номер счастливый, выведите строку `Yes`, иначе — `No`.\n",
    "\n",
    "---\n",
    "\n",
    "**Пример 1:**\n",
    "\n",
    "*Input:* 123456\n",
    "\n",
    "*Output:* No\n",
    "\n",
    "\n",
    "**Пример 2:**\n",
    "\n",
    "*Input:* 123042\n",
    "\n",
    "*Output:* Yes"
   ]
  },
  {
   "cell_type": "code",
   "execution_count": null,
   "metadata": {
    "collapsed": true
   },
   "outputs": [],
   "source": [
    "ticket_number = # any 6-digit number"
   ]
  },
  {
   "cell_type": "code",
   "execution_count": 1,
   "metadata": {},
   "outputs": [
    {
     "name": "stdout",
     "output_type": "stream",
     "text": [
      "123042\n"
     ]
    }
   ],
   "source": [
    "ticket_number = list(map(int, list(input())))"
   ]
  },
  {
   "cell_type": "code",
   "execution_count": 2,
   "metadata": {},
   "outputs": [
    {
     "name": "stdout",
     "output_type": "stream",
     "text": [
      "Yes\n"
     ]
    }
   ],
   "source": [
    "if sum(ticket_number[:3]) == sum(ticket_number[3:]):\n",
    "    print(\"Yes\")\n",
    "else:\n",
    "    print(\"No\")"
   ]
  },
  {
   "cell_type": "markdown",
   "metadata": {},
   "source": [
    "## Пароль\n",
    "\n",
    "![](http://forum.ixbt.com/post.cgi?id=attach:77:14138:1341:1)\n",
    "\n",
    "Пусть пароль может содержать только латинские буквы, знаки препинания и цифры.\n",
    "\n",
    "Пароль считается надёжным, если удовлетворяет следующим условиям:\n",
    "- содержит буквы в разных регистрах;\n",
    "- содержит цифры;\n",
    "- содержит не менее `4` уникальных символов;\n",
    "- не содержит ваше имя латинницей, записанное буквами любых регистров (anna, iVan, ...).\n",
    "\n",
    "Иначе пароль считается слабым.\n",
    "\n",
    "**Задание:**\n",
    "\n",
    "1) Определите строку `password` — придуманный вами пароль;\n",
    "\n",
    "2) Напишите код, который по паролю `password` проверяет, является ли он надёжным;\n",
    "\n",
    "3) Если пароль надёжный, выведите строку `strong`, иначе — `weak`.\n",
    "\n",
    "\n",
    "---\n",
    "\n",
    "Пусть имя пользоватея -- Андрей.\n",
    "\n",
    "**Пример 1:**\n",
    "\n",
    "*Input:* Aandrei123\n",
    "\n",
    "*Output:* weak\n",
    "\n",
    "\n",
    "**Пример 2:**\n",
    "\n",
    "*Input:* an12dRei\n",
    "\n",
    "*Output:* strong"
   ]
  },
  {
   "cell_type": "code",
   "execution_count": null,
   "metadata": {
    "collapsed": true
   },
   "outputs": [],
   "source": [
    "password = # any password"
   ]
  },
  {
   "cell_type": "code",
   "execution_count": 3,
   "metadata": {},
   "outputs": [
    {
     "name": "stdout",
     "output_type": "stream",
     "text": [
      "Enter password: an12dRei\n",
      "Enter your name: andrei\n"
     ]
    }
   ],
   "source": [
    "password = input('Enter password: ')\n",
    "name = input('Enter your name: ')"
   ]
  },
  {
   "cell_type": "code",
   "execution_count": 5,
   "metadata": {},
   "outputs": [],
   "source": [
    "if password.isalpha() or password.isdigit():\n",
    "    print(\"weak\")\n",
    "    exit(-1)\n",
    "if password.islower() or password.isupper():\n",
    "    print(\"weak\")\n",
    "    exit(-1)"
   ]
  },
  {
   "cell_type": "code",
   "execution_count": 9,
   "metadata": {},
   "outputs": [],
   "source": [
    "un_symb = set(password)\n",
    "if len(un_symb) < 4:\n",
    "    print('weak')\n",
    "    exit(-1)"
   ]
  },
  {
   "cell_type": "code",
   "execution_count": 10,
   "metadata": {},
   "outputs": [
    {
     "name": "stdout",
     "output_type": "stream",
     "text": [
      "strong\n"
     ]
    }
   ],
   "source": [
    "if name.lower() in password.lower():\n",
    "    print(\"weak\")\n",
    "    exit(-1)\n",
    "else:\n",
    "    print(\"strong\")"
   ]
  },
  {
   "cell_type": "markdown",
   "metadata": {},
   "source": [
    "## Числа Фибоначчи\n",
    "Как известно, [числа Фибоначчи](https://ru.wikipedia.org/wiki/%D0%A7%D0%B8%D1%81%D0%BB%D0%B0_%D0%A4%D0%B8%D0%B1%D0%BE%D0%BD%D0%B0%D1%87%D1%87%D0%B8) — это последовательность чисел, каждое из которых равно сумме двух предыдущих (первые два числа равны $1$):\n",
    "$$\n",
    "    1, 1, 2, 3, 5, 8, 13, \\ldots\n",
    "$$\n",
    "\n",
    "**Задание:**\n",
    "\n",
    "1) Определите число `amount` — количество чисел Фибоначчи, которые надо вывести;\n",
    "\n",
    "2) Напишите код, который выводит первые `amount` чисел Фибоначчи.\n",
    "\n",
    "---\n",
    "\n",
    "**Пример 1:**\n",
    "\n",
    "*Input:* 3\n",
    "\n",
    "*Output:* 1 1 2\n",
    "\n",
    "\n",
    "**Пример 2:**\n",
    "\n",
    "*Input:* 10\n",
    "\n",
    "*Output:* 1 1 2 3 5 8 13 21 34 55\n"
   ]
  },
  {
   "cell_type": "code",
   "execution_count": null,
   "metadata": {},
   "outputs": [],
   "source": [
    "amount = # any number"
   ]
  },
  {
   "cell_type": "code",
   "execution_count": 15,
   "metadata": {},
   "outputs": [
    {
     "name": "stdout",
     "output_type": "stream",
     "text": [
      "10\n"
     ]
    }
   ],
   "source": [
    "amount = int(input()) - 1"
   ]
  },
  {
   "cell_type": "code",
   "execution_count": 18,
   "metadata": {},
   "outputs": [
    {
     "name": "stdout",
     "output_type": "stream",
     "text": [
      "1\n",
      "2\n",
      "3\n",
      "5\n",
      "8\n",
      "13\n",
      "21\n",
      "34\n",
      "55\n"
     ]
    }
   ],
   "source": [
    "a, b = 0, 1\n",
    "for i in range(amount):\n",
    "    a, b = b, a + b\n",
    "    print(b)"
   ]
  },
  {
   "cell_type": "markdown",
   "metadata": {},
   "source": [
    "## Время исследований\n",
    "\n",
    "![](https://2.bp.blogspot.com/-VOT5x12UqPY/WSh53tQ94HI/AAAAAAAAAMY/-nlcz28_Fj4UzJjbn4bBINKCnzwag1W4QCLcB/s1600/my-pic-widget.jpg)\n",
    "\n",
    "На сайте https://www.kaggle.com/ выберите любой набор данных в формате CSV и проведите для него маленькое исследование: загрузите данные из набора с использованием стандартного модуля `csv`, посмотрите средние значения и стандартные отклонения двух выбранных числовых атрибутов, найдите [методом наименьших квадратов](https://ru.wikipedia.org/wiki/%D0%9C%D0%B5%D1%82%D0%BE%D0%B4_%D0%BD%D0%B0%D0%B8%D0%BC%D0%B5%D0%BD%D1%8C%D1%88%D0%B8%D1%85_%D0%BA%D0%B2%D0%B0%D0%B4%D1%80%D0%B0%D1%82%D0%BE%D0%B2) уравнение линейной зависимости, связывающей один числовой атрибут с другим. Для оценки заданной зависимости найдите [коэффициент парной корреляции](https://ru.wikipedia.org/wiki/%D0%9A%D0%BE%D1%80%D1%80%D0%B5%D0%BB%D1%8F%D1%86%D0%B8%D1%8F), сделайте соответствующие выводы.\n",
    "\n",
    "**Результаты надо обязательно прокомментировать и пояснить!**\n",
    "\n",
    "---\n",
    "\n",
    "**Пример 1:**\n",
    "\n",
    "Пусть таблица `bikes.csv` содержит данные по арендам велосипедов за $2$ года:\n",
    "- `datetime`: дата и время аренды\n",
    "- `season`: время года\n",
    "- `temp`: температура воздуха по Цельсию\n",
    "- `windspeed`: скорость ветра \n",
    "- `registered`: число аренд\n",
    "\n",
    "Одно из направлений исследования могло бы заключаться в проверке зависимости суммарного числа аренд от температуры воздуха."
   ]
  },
  {
   "cell_type": "markdown",
   "metadata": {},
   "source": [
    "*в такой ячейке (режим Markdown) можно писать текст*"
   ]
  },
  {
   "cell_type": "code",
   "execution_count": 35,
   "metadata": {},
   "outputs": [],
   "source": [
    "import csv\n",
    "from math import sqrt\n",
    "\n",
    "with open('organizations_gdp_hist.csv', 'r', newline='') as csvfile:\n",
    "    data = csv.reader(csvfile, delimiter=',')\n",
    "    total_gdp = []\n",
    "    gdp_var = []\n",
    "    for row in data:\n",
    "        if row[4] == \"Ingreso alto\":\n",
    "            total_gdp.append(float(row[6]))\n",
    "            gdp_var.append(float(row[8]))"
   ]
  },
  {
   "cell_type": "code",
   "execution_count": 38,
   "metadata": {},
   "outputs": [
    {
     "name": "stdout",
     "output_type": "stream",
     "text": [
      "Среднее значение ВВП страны: : 1249197923.1747534\n",
      "Среднее значение изменения ВВП в прошлом году: : 0.2521313144269093\n"
     ]
    }
   ],
   "source": [
    "av_total = sum(total_gdp) / len(total_gdp)\n",
    "av_var = sum(gdp_var) / len(gdp_var)\n",
    "print('Среднее значение ВВП страны: '\n",
    "        f\": {av_total}\")\n",
    "print('Среднее значение изменения ВВП в прошлом году: '\n",
    "        f\": {av_var}\")"
   ]
  },
  {
   "cell_type": "code",
   "execution_count": 42,
   "metadata": {},
   "outputs": [
    {
     "name": "stdout",
     "output_type": "stream",
     "text": [
      "Стандартное отклонение ВВП страны: 2933781476.848383\n",
      "Стандартное отклонение изменения ВВП в прошлом году: 1.3912502466006698\n"
     ]
    }
   ],
   "source": [
    "v1 = sum((elem - av_total) ** 2 for elem in total_gdp) / len(total_gdp)\n",
    "st_v1 = sqrt(v1)\n",
    "v2 = sum((elem - av_var) ** 2 for elem in gdp_var) / len(gdp_var)\n",
    "st_v2 = sqrt(v2)\n",
    "print(\"Стандартное отклонение ВВП страны: \"\n",
    "    f\"{st_v1}\"\n",
    "    )\n",
    "print(\"Стандартное отклонение изменения ВВП в прошлом году: \"\n",
    "    f\"{st_v2}\"\n",
    "    )"
   ]
  },
  {
   "cell_type": "code",
   "execution_count": 44,
   "metadata": {},
   "outputs": [
    {
     "name": "stdout",
     "output_type": "stream",
     "text": [
      "Уравнение линейной зависимости: y = 2.381063708860022e-10x + -0.045310669578562224\n",
      "Значения функции на кривой методом наименьших квадратов: \n",
      "-0.045310669578562224\n",
      "-0.045310669578562224\n",
      "-0.045310669578562224\n",
      "-0.045310669578562224\n",
      "-0.045310669578562224\n",
      "-0.045310669578562224\n",
      "-0.045310669578562224\n",
      "-0.045310669578562224\n",
      "-0.045310669578562224\n",
      "-0.045310669578562224\n",
      "-0.045310669578562224\n",
      "-0.045310669578562224\n",
      "-0.045310669578562224\n",
      "-0.045310669578562224\n",
      "-0.045310669578562224\n",
      "-0.045310669578562224\n",
      "-0.045310669578562224\n",
      "-0.045310669578562224\n",
      "-0.045310669578562224\n",
      "-0.045310669578562224\n",
      "-0.045310669578562224\n",
      "-0.045310669578562224\n",
      "-0.045310669578562224\n",
      "-0.045310669578562224\n",
      "-0.045310669578562224\n",
      "-0.045310669578562224\n",
      "-0.045310669578562224\n",
      "-0.045310669578562224\n",
      "-0.045310669578562224\n",
      "-0.045310669578562224\n",
      "-0.045310669578562224\n",
      "-0.045310669578562224\n",
      "-0.045310669578562224\n",
      "-0.045310669578562224\n",
      "-0.045310669578562224\n",
      "-0.045310669578562224\n",
      "-0.045310669578562224\n",
      "-0.045310669578562224\n",
      "1.370337674890762\n",
      "1.4459919009798377\n",
      "1.487952212758243\n",
      "1.4388801675080338\n",
      "1.5412959014527052\n",
      "1.7006219423330524\n",
      "1.9914408862810489\n",
      "2.056525573661451\n",
      "2.2587042791095713\n",
      "2.6965457735789045\n",
      "-0.045310669578562224\n",
      "-0.045310669578562224\n",
      "-0.045310669578562224\n",
      "-0.045310669578562224\n",
      "-0.045310669578562224\n",
      "-0.045310669578562224\n",
      "-0.045310669578562224\n",
      "-0.045310669578562224\n",
      "-0.045310669578562224\n",
      "-0.045310669578562224\n",
      "-0.045310669578562224\n",
      "-0.045310669578562224\n",
      "-0.045310669578562224\n",
      "-0.045310669578562224\n"
     ]
    }
   ],
   "source": [
    "sum_ab = 0\n",
    "sum_square = 0\n",
    "for idx, elem in enumerate(total_gdp):\n",
    "    sum_ab += elem * gdp_var[idx]\n",
    "    sum_square += elem ** 2\n",
    "size = len(total_gdp)\n",
    "k_lin = (size * sum_ab - sum(total_gdp) * sum(gdp_var)) / (size * sum_square - sum(total_gdp) ** 2)\n",
    "b_lin = av_var - av_total * k_lin\n",
    "func_val = []\n",
    "for elem in total_gdp:\n",
    "    func_val.append(k_lin * elem + b_lin)\n",
    "print(f\"Уравнение линейной зависимости: y = {k_lin}x + {b_lin}\")\n",
    "print(\"Значения функции на кривой методом наименьших квадратов: \")\n",
    "for val in func_val:\n",
    "    print(val)"
   ]
  },
  {
   "cell_type": "code",
   "execution_count": 46,
   "metadata": {},
   "outputs": [
    {
     "name": "stdout",
     "output_type": "stream",
     "text": [
      "Коэффициент парной корреляции: 0.5021038178658084\n"
     ]
    }
   ],
   "source": [
    "cor_chisl = 0\n",
    "for idx, elem in enumerate(total_gdp):\n",
    "    cor_chisl += (elem - av_total) * (gdp_var[idx] - av_var)\n",
    "sqr_diff_total = sum((elem - av_total) ** 2 for elem in total_gdp)\n",
    "sqr_diff_gdp = sum((elem - av_var) ** 2 for elem in gdp_var)\n",
    "r_xy = cor_chisl / sqrt(sqr_diff_total * sqr_diff_gdp)\n",
    "print(f\"Коэффициент парной корреляции: {r_xy}\")"
   ]
  }
 ],
 "metadata": {
  "anaconda-cloud": {},
  "kernelspec": {
   "display_name": "Python 3 (ipykernel)",
   "language": "python",
   "name": "python3"
  },
  "language_info": {
   "codemirror_mode": {
    "name": "ipython",
    "version": 3
   },
   "file_extension": ".py",
   "mimetype": "text/x-python",
   "name": "python",
   "nbconvert_exporter": "python",
   "pygments_lexer": "ipython3",
   "version": "3.9.13"
  }
 },
 "nbformat": 4,
 "nbformat_minor": 1
}
