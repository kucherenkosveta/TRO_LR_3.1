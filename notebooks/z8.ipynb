{
 "cells": [
  {
   "cell_type": "markdown",
   "id": "2b8289dc",
   "metadata": {},
   "source": [
    "# Задача:\n",
    "В июле 2016 года планируется взять кредит в банке на пять лет в размере S тыс. рублей. Условия его возврата таковы:\n",
    "− каждый январь долг возрастает на 25% по сравнению с концом предыдущего года;\n",
    "− с февраля по июнь каждого года необходимо выплатить часть долга;\n",
    "− в июле 2017, 2018 и 2019 долг остаётся равным S тыс. рублей;\n",
    "− выплаты в 2020 и 2021 годах равны по 625 тыс. рублей;\n",
    "− к июлю 2021 долг будет выплачен полностью.\n",
    "Найдите общую сумму выплат за пять лет.\n",
    "\n",
    "\n",
    "\n",
    "# Решение:\n",
    "\n",
    "Введем переменные:\n",
    "![k](https://chart.googleapis.com/chart?cht=tx&chl=k=1%2B\\frac{25}{100}=1,25)\n",
    "![Y](https://chart.googleapis.com/chart?cht=tx&chl=Y=625000) \n",
    "\n",
    "\n",
    "Общая сумма выплат: \n",
    "![x](https://chart.googleapis.com/chart?cht=tx&chl=x=3(kS-S)%2B2Y=3S(k-1)%2B2Y)\n",
    "\n",
    "\n",
    "Долг был полностью погашен последней выплатой Y.\n",
    "Значит, \n",
    "![YY](https://chart.googleapis.com/chart?cht=tx&chl=k(kS-Y)=Y)\n",
    "\n",
    "\n",
    "A отсюда:\n",
    "\n",
    "![S](https://chart.googleapis.com/chart?cht=tx&chl=S=\\frac{(k%2B1)Y}{k^2}=(\\frac{3Y(k%2B1)}{k^2})%2B2Y=\\frac{3Y(k^2-1)}{k^2}%2B2Y)\n",
    "\n"
   ]
  },
  {
   "cell_type": "code",
   "execution_count": 8,
   "id": "ca8187bc",
   "metadata": {},
   "outputs": [
    {
     "name": "stdout",
     "output_type": "stream",
     "text": [
      "1925000.0\n"
     ]
    }
   ],
   "source": [
    "Y = 625000\n",
    "k = 1.25\n",
    "S = ((3*Y * (k**2 - 1)) / k**2) + 2*Y\n",
    "print(S)"
   ]
  }
 ],
 "metadata": {
  "kernelspec": {
   "display_name": "Python 3 (ipykernel)",
   "language": "python",
   "name": "python3"
  },
  "language_info": {
   "codemirror_mode": {
    "name": "ipython",
    "version": 3
   },
   "file_extension": ".py",
   "mimetype": "text/x-python",
   "name": "python",
   "nbconvert_exporter": "python",
   "pygments_lexer": "ipython3",
   "version": "3.9.13"
  }
 },
 "nbformat": 4,
 "nbformat_minor": 5
}
