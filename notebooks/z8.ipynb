{
 "cells": [
  {
   "attachments": {},
   "cell_type": "markdown",
   "id": "f8eb241c",
   "metadata": {},
   "source": [
    "Задача:\n",
    "В июле 2016 года планируется взять кредит в банке на пять лет в размере S тыс. рублей. Условия его возврата таковы:\n",
    "− каждый январь долг возрастает на 25% по сравнению с концом предыдущего года;\n",
    "− с февраля по июнь каждого года необходимо выплатить часть долга;\n",
    "− в июле 2017, 2018 и 2019 долг остаётся равным S тыс. рублей;\n",
    "− выплаты в 2020 и 2021 годах равны по 625 тыс. рублей;\n",
    "− к июлю 2021 долг будет выплачен полностью.\n",
    "Найдите общую сумму выплат за пять лет.\n",
    "\n",
    "\n",
    "Решение:\n",
    "Введем переменные: k = 1 + 25/100 = 1.25, Y = 625 000 рублей. \n",
    "Общая сумма выплат: x = 3(kS - S) + 2Y = 3S(k - 1) + 2Y. Долг был полностью погашен последней выплатой Y.\n",
    "Значит, k(kS - Y) = Y, а отсюда:\n",
    "S = (k+1)Y / k**2 = (3Y(k+1) / k**2) + 2Y = 3Y(k**2 - 1) / k**2 + 2Y"
   ]
  },
  {
   "cell_type": "code",
   "execution_count": 8,
   "id": "ca8187bc",
   "metadata": {},
   "outputs": [
    {
     "name": "stdout",
     "output_type": "stream",
     "text": [
      "1925000.0\n"
     ]
    }
   ],
   "source": [
    "Y = 625000\n",
    "k = 1.25\n",
    "S = ((3*Y * (k**2 - 1)) / k**2) + 2*Y\n",
    "print(S)"
   ]
  }
 ],
 "metadata": {
  "kernelspec": {
   "display_name": "Python 3 (ipykernel)",
   "language": "python",
   "name": "python3"
  },
  "language_info": {
   "codemirror_mode": {
    "name": "ipython",
    "version": 3
   },
   "file_extension": ".py",
   "mimetype": "text/x-python",
   "name": "python",
   "nbconvert_exporter": "python",
   "pygments_lexer": "ipython3",
   "version": "3.9.13"
  }
 },
 "nbformat": 4,
 "nbformat_minor": 5
}
